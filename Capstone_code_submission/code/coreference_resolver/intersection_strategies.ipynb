{
 "cells": [
  {
   "cell_type": "code",
   "execution_count": 3,
   "metadata": {
    "collapsed": true
   },
   "outputs": [
    {
     "name": "stdout",
     "output_type": "stream",
     "text": [
      "Collecting neuralcoref\n",
      "  Downloading neuralcoref-4.0.tar.gz (368 kB)\n",
      "\u001b[K     |████████████████████████████████| 368 kB 1.6 MB/s eta 0:00:01\n",
      "\u001b[?25hCollecting boto3\n",
      "  Downloading boto3-1.17.82-py2.py3-none-any.whl (131 kB)\n",
      "\u001b[K     |████████████████████████████████| 131 kB 2.0 MB/s eta 0:00:01\n",
      "\u001b[?25hRequirement already satisfied: numpy>=1.15.0 in /home/anurag/.local/lib/python3.8/site-packages (from neuralcoref) (1.19.2)\n",
      "Requirement already satisfied: requests<3.0.0,>=2.13.0 in /usr/lib/python3/dist-packages (from neuralcoref) (2.22.0)\n",
      "Requirement already satisfied: spacy>=2.1.0 in /home/anurag/.local/lib/python3.8/site-packages (from neuralcoref) (2.3.4)\n",
      "Collecting botocore<1.21.0,>=1.20.82\n",
      "  Downloading botocore-1.20.82-py2.py3-none-any.whl (7.6 MB)\n",
      "\u001b[K     |████████████████████████████████| 7.6 MB 5.6 MB/s eta 0:00:01\n",
      "\u001b[?25hCollecting s3transfer<0.5.0,>=0.4.0\n",
      "  Downloading s3transfer-0.4.2-py2.py3-none-any.whl (79 kB)\n",
      "\u001b[K     |████████████████████████████████| 79 kB 2.7 MB/s eta 0:00:01\n",
      "\u001b[?25hCollecting jmespath<1.0.0,>=0.7.1\n",
      "  Downloading jmespath-0.10.0-py2.py3-none-any.whl (24 kB)\n",
      "Requirement already satisfied: thinc<7.5.0,>=7.4.1 in /home/anurag/.local/lib/python3.8/site-packages (from spacy>=2.1.0->neuralcoref) (7.4.3)\n",
      "Requirement already satisfied: wasabi<1.1.0,>=0.4.0 in /home/anurag/.local/lib/python3.8/site-packages (from spacy>=2.1.0->neuralcoref) (0.8.0)\n",
      "Requirement already satisfied: srsly<1.1.0,>=1.0.2 in /home/anurag/.local/lib/python3.8/site-packages (from spacy>=2.1.0->neuralcoref) (1.0.4)\n",
      "Requirement already satisfied: setuptools in /usr/lib/python3/dist-packages (from spacy>=2.1.0->neuralcoref) (45.2.0)\n",
      "Requirement already satisfied: blis<0.8.0,>=0.4.0; python_version >= \"3.6\" in /home/anurag/.local/lib/python3.8/site-packages (from spacy>=2.1.0->neuralcoref) (0.7.3)\n",
      "Requirement already satisfied: preshed<3.1.0,>=3.0.2 in /home/anurag/.local/lib/python3.8/site-packages (from spacy>=2.1.0->neuralcoref) (3.0.4)\n",
      "Requirement already satisfied: cymem<2.1.0,>=2.0.2 in /home/anurag/.local/lib/python3.8/site-packages (from spacy>=2.1.0->neuralcoref) (2.0.4)\n",
      "Requirement already satisfied: catalogue<1.1.0,>=0.0.7 in /home/anurag/.local/lib/python3.8/site-packages (from spacy>=2.1.0->neuralcoref) (1.0.0)\n",
      "Requirement already satisfied: tqdm<5.0.0,>=4.38.0 in /home/anurag/.local/lib/python3.8/site-packages (from spacy>=2.1.0->neuralcoref) (4.50.2)\n",
      "Requirement already satisfied: plac<1.2.0,>=0.9.6 in /home/anurag/.local/lib/python3.8/site-packages (from spacy>=2.1.0->neuralcoref) (1.1.3)\n",
      "Requirement already satisfied: murmurhash<1.1.0,>=0.28.0 in /home/anurag/.local/lib/python3.8/site-packages (from spacy>=2.1.0->neuralcoref) (1.0.4)\n",
      "Requirement already satisfied: urllib3<1.27,>=1.25.4 in /usr/lib/python3/dist-packages (from botocore<1.21.0,>=1.20.82->boto3->neuralcoref) (1.25.8)\n",
      "Requirement already satisfied: python-dateutil<3.0.0,>=2.1 in /usr/lib/python3/dist-packages (from botocore<1.21.0,>=1.20.82->boto3->neuralcoref) (2.7.3)\n",
      "Skipping wheel build for neuralcoref, due to binaries being disabled for it.\n",
      "Installing collected packages: jmespath, botocore, s3transfer, boto3, neuralcoref\n",
      "    Running setup.py install for neuralcoref ... \u001b[?25ldone\n",
      "\u001b[?25hSuccessfully installed boto3-1.17.82 botocore-1.20.82 jmespath-0.10.0 neuralcoref-4.0 s3transfer-0.4.2\n",
      "Note: you may need to restart the kernel to use updated packages.\n"
     ]
    }
   ],
   "source": [
    "#pip install neuralcoref --no-binary neuralcoref\n",
    "#pip install allennlp\n",
    "#pip install --pre allennlp-models"
   ]
  },
  {
   "cell_type": "code",
   "execution_count": 1,
   "metadata": {},
   "outputs": [],
   "source": [
    "from utils import load_models, print_clusters\n",
    "from utils import IntersectionStrategy, StrictIntersectionStrategy, PartialIntersectionStrategy, FuzzyIntersectionStrategy"
   ]
  },
  {
   "cell_type": "code",
   "execution_count": 2,
   "metadata": {},
   "outputs": [
    {
     "data": {
      "application/vnd.jupyter.widget-view+json": {
       "model_id": "8d58f253c1364727b543d6a1620f0c60",
       "version_major": 2,
       "version_minor": 0
      },
      "text/plain": [
       "HBox(children=(HTML(value='downloading'), FloatProgress(value=0.0, max=1345947288.0), HTML(value='')))"
      ]
     },
     "metadata": {},
     "output_type": "display_data"
    },
    {
     "name": "stderr",
     "output_type": "stream",
     "text": [
      "\n"
     ]
    },
    {
     "data": {
      "application/vnd.jupyter.widget-view+json": {
       "model_id": "83e3217a716f4a8ea0adc90f402ba26c",
       "version_major": 2,
       "version_minor": 0
      },
      "text/plain": [
       "HBox(children=(HTML(value='Downloading'), FloatProgress(value=0.0, max=414.0), HTML(value='')))"
      ]
     },
     "metadata": {},
     "output_type": "display_data"
    },
    {
     "name": "stdout",
     "output_type": "stream",
     "text": [
      "\n"
     ]
    },
    {
     "data": {
      "application/vnd.jupyter.widget-view+json": {
       "model_id": "e0e028408fc142aaa5bed8947e7821fc",
       "version_major": 2,
       "version_minor": 0
      },
      "text/plain": [
       "HBox(children=(HTML(value='Downloading'), FloatProgress(value=0.0, max=213450.0), HTML(value='')))"
      ]
     },
     "metadata": {},
     "output_type": "display_data"
    },
    {
     "name": "stdout",
     "output_type": "stream",
     "text": [
      "\n"
     ]
    },
    {
     "data": {
      "application/vnd.jupyter.widget-view+json": {
       "model_id": "16b5492ca6144e0fb9d2950c67c92c8b",
       "version_major": 2,
       "version_minor": 0
      },
      "text/plain": [
       "HBox(children=(HTML(value='Downloading'), FloatProgress(value=0.0, max=665132540.0), HTML(value='')))"
      ]
     },
     "metadata": {},
     "output_type": "display_data"
    },
    {
     "name": "stdout",
     "output_type": "stream",
     "text": [
      "\n"
     ]
    },
    {
     "name": "stderr",
     "output_type": "stream",
     "text": [
      "Some weights of BertModel were not initialized from the model checkpoint at SpanBERT/spanbert-large-cased and are newly initialized: ['bert.pooler.dense.weight', 'bert.pooler.dense.bias']\n",
      "You should probably TRAIN this model on a down-stream task to be able to use it for predictions and inference.\n",
      "Spacy models 'en_core_web_sm' not found.  Downloading and installing.\n"
     ]
    },
    {
     "name": "stdout",
     "output_type": "stream",
     "text": [
      "\u001b[38;5;2m✔ Download and installation successful\u001b[0m\n",
      "You can now load the model via spacy.load('en_core_web_sm')\n"
     ]
    }
   ],
   "source": [
    "predictor, nlp = load_models()"
   ]
  },
  {
   "cell_type": "markdown",
   "metadata": {},
   "source": [
    "## Models intersection strategies (ensemble)\n",
    "\n",
    "We use two models: **AllenNLP** and **Huggingface**. In multiple tests AllenNLP turned out much better - it has better precision and recall (on [Google GAP dataset](https://github.com/google-research-datasets/gap-coreference)), and finds much more clusters at all. That's why we decide to take <ins>AllenNLP answers as a ground truth</ins>.   \n",
    "However AllenNLP also makes mistakes - it has about 8% of false positives which we would like to minimize. That's why we propose **several intersections of AllenNLP and Huggingface outputs (an ensemble)** to modify the results and gain more confidence about the final clusters.  \n",
    "\n",
    "We propose four intersection strategies:\n",
    "- **strict** - we take only those clusters that are identical both in AllenNLP and Huggingface (intersection of clusters)\n",
    "- **partial** - we take all of the spans that are identical both in AllenNLP and Huggingface (intersection of spans/mentions)\n",
    "- **fuzzy** - we take all of the spans that are the same but also we find spans that overlap (are relating to the same entity but are composed of different number of tokens) and choose the shorter one"
   ]
  },
  {
   "cell_type": "markdown",
   "metadata": {},
   "source": [
    "## Example\n",
    "**Text**  \n",
    "*In 1311 it was settled on Peter and Lucy for life with remainder to William Everard and his wife Beatrice. Peter had died by 1329 but Lucy lived until 1337 and she was succeeded by William Everard who died in 1343. William's son, Sir Edmund Everard inherited and maintained ownership jointly with his wife Felice until he died in 1370.*  \n",
    "\n",
    "**AllenNLP clusters**   \n",
    "William Everard --> William Everard; his; William Everard who died in 1343; William's   \n",
    "Peter --> Peter; Peter   \n",
    "Lucy --> Lucy; Lucy; she   \n",
    "William's son, Sir Edmund Everard --> William's son, Sir Edmund Everard; his; he\n",
    "\n",
    "**Huggingface clusters**  \n",
    "William Everard --> William Everard; his; William Everard; Sir Edmund Everard; his  \n",
    "Peter --> Peter; Peter; he  \n",
    "Lucy --> Lucy; Lucy; she  \n",
    "his wife Beatrice --> his wife Beatrice; his wife Felice\n",
    "\n",
    "### Strategies\n",
    "\n",
    "1. **Strict**  \n",
    "    Lucy --> Lucy; Lucy; she\n",
    "\n",
    "2. **Partial**  \n",
    "    William Everard --> William Everard; his  \n",
    "    Peter --> Peter; Peter  \n",
    "    Lucy --> Lucy; Lucy; she\n",
    "\n",
    "3. **Fuzzy**  \n",
    "    William Everard --> William Everard; his; William Everard  \n",
    "    Peter --> Peter; Peter  \n",
    "    Lucy --> Lucy; Lucy; she  \n",
    "    Sir Edmund Everard --> Sir Edmund Everard; his  \n",
    "\n"
   ]
  },
  {
   "cell_type": "code",
   "execution_count": 3,
   "metadata": {},
   "outputs": [],
   "source": [
    "text = \"Austin Jermaine Wiley (born January 8, 1999) is an American basketball player. He currently plays for the Auburn Tigers in the Southeastern Conference. Wiley attended Spain Park High School in Hoover, Alabama, where he averaged 27.1 points, 12.7 rebounds and 2.9 blocked shots as a junior in 2015-16, before moving to Florida, where he went to Calusa Preparatory School in Miami, Florida, while playing basketball at The Conrad Academy in Orlando.\"\n",
    "\n",
    "clusters = predictor.predict(text)['clusters']\n",
    "doc = nlp(text)"
   ]
  },
  {
   "cell_type": "code",
   "execution_count": 4,
   "metadata": {},
   "outputs": [
    {
     "name": "stdout",
     "output_type": "stream",
     "text": [
      "~~~ AllenNLP clusters ~~~\n",
      "Austin Jermaine Wiley - [Austin Jermaine Wiley; He; Wiley; he; he]\n",
      "Florida - [Florida; Florida]\n",
      "\n",
      "~~~ Huggingface clusters ~~~\n",
      "Wiley: [Austin Jermaine Wiley (born January 8, 1999), He, Wiley, he, he]\n",
      "Florida: [Florida, Florida]\n"
     ]
    }
   ],
   "source": [
    "print(\"~~~ AllenNLP clusters ~~~\")\n",
    "print_clusters(doc, clusters)\n",
    "print(\"\\n~~~ Huggingface clusters ~~~\")\n",
    "for cluster in doc._.coref_clusters:\n",
    "    print(cluster)"
   ]
  },
  {
   "cell_type": "code",
   "execution_count": 5,
   "metadata": {},
   "outputs": [],
   "source": [
    "strict = StrictIntersectionStrategy(predictor, nlp)\n",
    "partial = PartialIntersectionStrategy(predictor, nlp)\n",
    "fuzzy = FuzzyIntersectionStrategy(predictor, nlp)"
   ]
  },
  {
   "cell_type": "code",
   "execution_count": 11,
   "metadata": {},
   "outputs": [
    {
     "name": "stdout",
     "output_type": "stream",
     "text": [
      "\n",
      "~~~ StrictIntersectionStrategy clusters ~~~\n",
      "Florida - [Florida; Florida]\n"
     ]
    },
    {
     "ename": "TypeError",
     "evalue": "resolve_coreferences() missing 1 required positional argument: 'text'",
     "output_type": "error",
     "traceback": [
      "\u001b[0;31m---------------------------------------------------------------------------\u001b[0m",
      "\u001b[0;31mTypeError\u001b[0m                                 Traceback (most recent call last)",
      "\u001b[0;32m<ipython-input-11-1922941a4419>\u001b[0m in \u001b[0;36m<module>\u001b[0;34m\u001b[0m\n\u001b[1;32m      2\u001b[0m     \u001b[0mprint\u001b[0m\u001b[0;34m(\u001b[0m\u001b[0;34mf'\\n~~~ {intersection_strategy.__class__.__name__} clusters ~~~'\u001b[0m\u001b[0;34m)\u001b[0m\u001b[0;34m\u001b[0m\u001b[0;34m\u001b[0m\u001b[0m\n\u001b[1;32m      3\u001b[0m     \u001b[0mprint_clusters\u001b[0m\u001b[0;34m(\u001b[0m\u001b[0mdoc\u001b[0m\u001b[0;34m,\u001b[0m \u001b[0mintersection_strategy\u001b[0m\u001b[0;34m.\u001b[0m\u001b[0mclusters\u001b[0m\u001b[0;34m(\u001b[0m\u001b[0mtext\u001b[0m\u001b[0;34m)\u001b[0m\u001b[0;34m)\u001b[0m\u001b[0;34m\u001b[0m\u001b[0;34m\u001b[0m\u001b[0m\n\u001b[0;32m----> 4\u001b[0;31m     \u001b[0mprint\u001b[0m\u001b[0;34m(\u001b[0m\u001b[0mIntersectionStrategy\u001b[0m\u001b[0;34m.\u001b[0m\u001b[0mresolve_coreferences\u001b[0m\u001b[0;34m(\u001b[0m\u001b[0mtext\u001b[0m\u001b[0;34m)\u001b[0m\u001b[0;34m)\u001b[0m\u001b[0;34m\u001b[0m\u001b[0;34m\u001b[0m\u001b[0m\n\u001b[0m",
      "\u001b[0;31mTypeError\u001b[0m: resolve_coreferences() missing 1 required positional argument: 'text'"
     ]
    }
   ],
   "source": [
    "for intersection_strategy in [strict, partial, fuzzy]:\n",
    "    print(f'\\n~~~ {intersection_strategy.__class__.__name__} clusters ~~~')\n",
    "    print_clusters(doc, intersection_strategy.clusters(text))\n",
    "    print(IntersectionStrategy.resolve_coreferences(text))"
   ]
  },
  {
   "cell_type": "code",
   "execution_count": null,
   "metadata": {},
   "outputs": [],
   "source": []
  }
 ],
 "metadata": {
  "kernelspec": {
   "display_name": "Python 3",
   "language": "python",
   "name": "python3"
  },
  "language_info": {
   "codemirror_mode": {
    "name": "ipython",
    "version": 3
   },
   "file_extension": ".py",
   "mimetype": "text/x-python",
   "name": "python",
   "nbconvert_exporter": "python",
   "pygments_lexer": "ipython3",
   "version": "3.8.5"
  }
 },
 "nbformat": 4,
 "nbformat_minor": 2
}
