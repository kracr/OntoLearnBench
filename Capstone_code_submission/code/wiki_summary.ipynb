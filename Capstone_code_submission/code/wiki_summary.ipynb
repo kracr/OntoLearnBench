{
 "cells": [
  {
   "cell_type": "code",
   "execution_count": 1,
   "metadata": {},
   "outputs": [],
   "source": [
    "from urllib.request import urlopen\n",
    "from bs4 import BeautifulSoup\n",
    "import webbrowser\n",
    "import pandas as pd\n",
    "import wikipedia"
   ]
  },
  {
   "cell_type": "markdown",
   "metadata": {},
   "source": [
    "Below method is used to read r"
   ]
  },
  {
   "cell_type": "code",
   "execution_count": 5,
   "metadata": {},
   "outputs": [],
   "source": [
    "def random_selector(n):\n",
    "    summary_list = []\n",
    "    title_list = []\n",
    "    while len(summary_list)<n:\n",
    "        try:\n",
    "            url = 'https://en.wikipedia.org/wiki/Special:Random'\n",
    "            page = urlopen(url)\n",
    "            html = page.read().decode('utf-8')\n",
    "            soup = BeautifulSoup(html,'html.parser')\n",
    "#             print('successful')\n",
    "            title = soup.title.string \n",
    "            title_list.append(title)\n",
    "            print(title)\n",
    "            summary = wikipedia.summary(title,sentences=10).split('\\n')[0]\n",
    "#             print(summary)\n",
    "            summary_list.append(summary)\n",
    "        except: \n",
    "            print('error')\n",
    "    df = pd.DataFrame(list(zip(title_list, summary_list)),columns =['title', 'summary'])\n",
    "    df.to_csv('../data/wikipedia/wiki_summary.csv',index = False)\n",
    "    return df"
   ]
  },
  {
   "cell_type": "code",
   "execution_count": 4,
   "metadata": {},
   "outputs": [
    {
     "name": "stdout",
     "output_type": "stream",
     "text": [
      "Pisanica, Gmina Kalinowo - Wikipedia\n"
     ]
    }
   ],
   "source": [
    "#n is number of articles\n",
    "df = random_selector(n=1000)"
   ]
  },
  {
   "cell_type": "code",
   "execution_count": 6,
   "metadata": {},
   "outputs": [
    {
     "name": "stdout",
     "output_type": "stream",
     "text": [
      "1000\n"
     ]
    },
    {
     "data": {
      "text/html": [
       "<div>\n",
       "<style scoped>\n",
       "    .dataframe tbody tr th:only-of-type {\n",
       "        vertical-align: middle;\n",
       "    }\n",
       "\n",
       "    .dataframe tbody tr th {\n",
       "        vertical-align: top;\n",
       "    }\n",
       "\n",
       "    .dataframe thead th {\n",
       "        text-align: right;\n",
       "    }\n",
       "</style>\n",
       "<table border=\"1\" class=\"dataframe\">\n",
       "  <thead>\n",
       "    <tr style=\"text-align: right;\">\n",
       "      <th></th>\n",
       "      <th>title</th>\n",
       "      <th>summary</th>\n",
       "    </tr>\n",
       "  </thead>\n",
       "  <tbody>\n",
       "    <tr>\n",
       "      <th>0</th>\n",
       "      <td>Macrocyclops albidus - Wikipedia</td>\n",
       "      <td>Macrocyclops is a genus of copepods belonging ...</td>\n",
       "    </tr>\n",
       "    <tr>\n",
       "      <th>1</th>\n",
       "      <td>Tartakover - Wikipedia</td>\n",
       "      <td>David Tartakover (דוד טרטקובר) (born  1944) is...</td>\n",
       "    </tr>\n",
       "    <tr>\n",
       "      <th>2</th>\n",
       "      <td>Kullamäe, Põlva County - Wikipedia</td>\n",
       "      <td>Kullamäe  is a village in Veriora Parish, Põlv...</td>\n",
       "    </tr>\n",
       "    <tr>\n",
       "      <th>3</th>\n",
       "      <td>Beatrice Morgari - Wikipedia</td>\n",
       "      <td>Beatrice Morgari (1858, Turin – 1936, Turin) w...</td>\n",
       "    </tr>\n",
       "    <tr>\n",
       "      <th>4</th>\n",
       "      <td>Andrew Earl (climber) - Wikipedia</td>\n",
       "      <td>YouTubers are people mostly known for their wo...</td>\n",
       "    </tr>\n",
       "  </tbody>\n",
       "</table>\n",
       "</div>"
      ],
      "text/plain": [
       "                                title  \\\n",
       "0    Macrocyclops albidus - Wikipedia   \n",
       "1              Tartakover - Wikipedia   \n",
       "2  Kullamäe, Põlva County - Wikipedia   \n",
       "3        Beatrice Morgari - Wikipedia   \n",
       "4   Andrew Earl (climber) - Wikipedia   \n",
       "\n",
       "                                             summary  \n",
       "0  Macrocyclops is a genus of copepods belonging ...  \n",
       "1  David Tartakover (דוד טרטקובר) (born  1944) is...  \n",
       "2  Kullamäe  is a village in Veriora Parish, Põlv...  \n",
       "3  Beatrice Morgari (1858, Turin – 1936, Turin) w...  \n",
       "4  YouTubers are people mostly known for their wo...  "
      ]
     },
     "metadata": {},
     "output_type": "display_data"
    }
   ],
   "source": [
    "print(len(df))\n",
    "display(df.head())"
   ]
  },
  {
   "cell_type": "code",
   "execution_count": null,
   "metadata": {},
   "outputs": [],
   "source": [
    "references : https://www.youtube.com/watch?v=0vyLJ-QjNuY&t=905s"
   ]
  }
 ],
 "metadata": {
  "kernelspec": {
   "display_name": "Python 3",
   "language": "python",
   "name": "python3"
  },
  "language_info": {
   "codemirror_mode": {
    "name": "ipython",
    "version": 3
   },
   "file_extension": ".py",
   "mimetype": "text/x-python",
   "name": "python",
   "nbconvert_exporter": "python",
   "pygments_lexer": "ipython3",
   "version": "3.8.5"
  }
 },
 "nbformat": 4,
 "nbformat_minor": 4
}
