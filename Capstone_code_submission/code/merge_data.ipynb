{
 "cells": [
  {
   "cell_type": "code",
   "execution_count": 11,
   "metadata": {},
   "outputs": [],
   "source": [
    "import pandas as pd\n",
    "from sklearn.model_selection import train_test_split"
   ]
  },
  {
   "cell_type": "markdown",
   "metadata": {},
   "source": [
    "Below function takes a list of csv files and merge them to give combined csv files"
   ]
  },
  {
   "cell_type": "code",
   "execution_count": 17,
   "metadata": {},
   "outputs": [],
   "source": [
    "def read_data_files(files):\n",
    "    df_list = []\n",
    "    for file in files:\n",
    "        df_list.append(pd.read_csv(file).dropna())\n",
    "#     for df in df_list:\n",
    "#         display(df.head())\n",
    "    combined_df = pd.concat(df_list)\n",
    "    train, test = train_test_split(combined_df, test_size=0.1)\n",
    "    train.to_csv('../data/all_merged/train.csv',index = False)\n",
    "    test.to_csv('../data/all_merged/test.csv',index = False)\n",
    "    return combined_df"
   ]
  },
  {
   "cell_type": "code",
   "execution_count": 18,
   "metadata": {},
   "outputs": [
    {
     "name": "stdout",
     "output_type": "stream",
     "text": [
      "47110\n"
     ]
    },
    {
     "data": {
      "text/html": [
       "<div>\n",
       "<style scoped>\n",
       "    .dataframe tbody tr th:only-of-type {\n",
       "        vertical-align: middle;\n",
       "    }\n",
       "\n",
       "    .dataframe tbody tr th {\n",
       "        vertical-align: top;\n",
       "    }\n",
       "\n",
       "    .dataframe thead th {\n",
       "        text-align: right;\n",
       "    }\n",
       "</style>\n",
       "<table border=\"1\" class=\"dataframe\">\n",
       "  <thead>\n",
       "    <tr style=\"text-align: right;\">\n",
       "      <th></th>\n",
       "      <th>input_text</th>\n",
       "      <th>target_text</th>\n",
       "    </tr>\n",
       "  </thead>\n",
       "  <tbody>\n",
       "    <tr>\n",
       "      <th>0</th>\n",
       "      <td>Allen_Forrest | birthPlace | \"Fort Campbell, K...</td>\n",
       "      <td>Allen Forrest was born in Fort Campbell, KY an...</td>\n",
       "    </tr>\n",
       "    <tr>\n",
       "      <th>1</th>\n",
       "      <td>Akron_Summit_Assault | ground | St._Vincent–St...</td>\n",
       "      <td>The ground of Akron Summit Assault is in St Vi...</td>\n",
       "    </tr>\n",
       "    <tr>\n",
       "      <th>2</th>\n",
       "      <td>Addis_Ababa_City_Hall | buildingStartDate | 19...</td>\n",
       "      <td>The Addis Ababa City Hall was built in 1961 an...</td>\n",
       "    </tr>\n",
       "    <tr>\n",
       "      <th>3</th>\n",
       "      <td>ALCO_RS-3 | builder | Montreal_Locomotive_Work...</td>\n",
       "      <td>The ALCO RS-3 has a V12 engine and is 17068.8 ...</td>\n",
       "    </tr>\n",
       "    <tr>\n",
       "      <th>4</th>\n",
       "      <td>Atlantic_City_International_Airport | operatin...</td>\n",
       "      <td>The Port Authority of New York and New Jersey,...</td>\n",
       "    </tr>\n",
       "  </tbody>\n",
       "</table>\n",
       "</div>"
      ],
      "text/plain": [
       "                                          input_text  \\\n",
       "0  Allen_Forrest | birthPlace | \"Fort Campbell, K...   \n",
       "1  Akron_Summit_Assault | ground | St._Vincent–St...   \n",
       "2  Addis_Ababa_City_Hall | buildingStartDate | 19...   \n",
       "3  ALCO_RS-3 | builder | Montreal_Locomotive_Work...   \n",
       "4  Atlantic_City_International_Airport | operatin...   \n",
       "\n",
       "                                         target_text  \n",
       "0  Allen Forrest was born in Fort Campbell, KY an...  \n",
       "1  The ground of Akron Summit Assault is in St Vi...  \n",
       "2  The Addis Ababa City Hall was built in 1961 an...  \n",
       "3  The ALCO RS-3 has a V12 engine and is 17068.8 ...  \n",
       "4  The Port Authority of New York and New Jersey,...  "
      ]
     },
     "metadata": {},
     "output_type": "display_data"
    }
   ],
   "source": [
    "files = ['../data/WebNLG/train_triplet_to_text.csv','../data/WebNLG/test_triplet_to_text.csv','../data/WebNLG/val_triplet_to_text.csv','../data/imdb_bio/final_bio_with_merged_triplets.csv','../data/wikipedia/wiki_summary_with_merged_triplets.csv']\n",
    "combined_df = read_data_files(files)\n",
    "print(len(combined_df))\n",
    "display(combined_df.head())"
   ]
  },
  {
   "cell_type": "code",
   "execution_count": null,
   "metadata": {},
   "outputs": [],
   "source": []
  }
 ],
 "metadata": {
  "kernelspec": {
   "display_name": "Python 3",
   "language": "python",
   "name": "python3"
  },
  "language_info": {
   "codemirror_mode": {
    "name": "ipython",
    "version": 3
   },
   "file_extension": ".py",
   "mimetype": "text/x-python",
   "name": "python",
   "nbconvert_exporter": "python",
   "pygments_lexer": "ipython3",
   "version": "3.8.5"
  }
 },
 "nbformat": 4,
 "nbformat_minor": 4
}
